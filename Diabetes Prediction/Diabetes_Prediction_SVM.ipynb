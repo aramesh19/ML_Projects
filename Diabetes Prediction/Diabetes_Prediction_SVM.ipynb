{
 "cells": [
  {
   "cell_type": "code",
   "execution_count": null,
   "metadata": {},
   "outputs": [],
   "source": []
  }
 ],
 "metadata": {
  "kernelspec": {
   "display_name": "Python 3",
   "language": "python",
   "name": "python3"
  },
  "language_info": {
   "name": "python",
   "version": "3.9.5"
  },
  "orig_nbformat": 4,
  "vscode": {
   "interpreter": {
    "hash": "dd1c33d1ec4c45c6dd9889ca5c4d0eedb78194fed49736b7267ae16fa65bf2fc"
   }
  }
 },
 "nbformat": 4,
 "nbformat_minor": 2
}
