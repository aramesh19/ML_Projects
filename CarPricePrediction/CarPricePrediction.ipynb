{
 "cells": [
  {
   "attachments": {},
   "cell_type": "markdown",
   "metadata": {},
   "source": [
    "Preprocess the car dataset  \n",
    "train test split  \n",
    "train the machine learning model with training data   \n",
    "then evaluate with test data  \n",
    "train the ML model with linear regression   \n",
    "then use lasso regression  \n",
    "Give New data to trained linear regression model  "
   ]
  },
  {
   "cell_type": "code",
   "execution_count": null,
   "metadata": {},
   "outputs": [],
   "source": []
  }
 ],
 "metadata": {
  "language_info": {
   "name": "python"
  },
  "orig_nbformat": 4
 },
 "nbformat": 4,
 "nbformat_minor": 2
}
